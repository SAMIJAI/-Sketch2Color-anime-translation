{
  "nbformat": 4,
  "nbformat_minor": 0,
  "metadata": {
    "colab": {
      "provenance": [],
      "authorship_tag": "ABX9TyM+zf31kYDJWxiCxm6A/79w",
      "include_colab_link": true
    },
    "kernelspec": {
      "name": "python3",
      "display_name": "Python 3"
    },
    "language_info": {
      "name": "python"
    }
  },
  "cells": [
    {
      "cell_type": "markdown",
      "metadata": {
        "id": "view-in-github",
        "colab_type": "text"
      },
      "source": [
        "<a href=\"https://colab.research.google.com/github/SAMIJAI/-Sketch2Color-anime-translation/blob/main/Dataprocessing.ipynb\" target=\"_parent\"><img src=\"https://colab.research.google.com/assets/colab-badge.svg\" alt=\"Open In Colab\"/></a>"
      ]
    },
    {
      "cell_type": "code",
      "source": [
        "#!/usr/bin/env python\n",
        "# coding: utf-8\n",
        "\n",
        "# In[ ]:\n",
        "\n",
        "\n",
        "\"\"\"\n",
        "Importing the required libraries.\n",
        "\"\"\"\n",
        "import numpy as np\n",
        "from PIL import Image\n",
        "import matplotlib.pyplot as plt\n",
        "import glob\n",
        "from tqdm import tqdm\n",
        "\n",
        "\n",
        "# In[10]:\n",
        "\n",
        "\n",
        "\"\"\"\n",
        "Displaying the sample sketch and color images.\n",
        "\"\"\"\n",
        "for file in glob.glob('train\\*.png')[:5]:\n",
        "    f, a = plt.subplots(1,2, figsize=(10,5))\n",
        "    a = a.flatten()\n",
        "    \n",
        "    img = Image.open(file).convert('RGB')\n",
        "    a[0].imshow(img.crop((0, 0, 512,512))); a[0].axis('off');\n",
        "    a[1].imshow(img.crop((512, 0, 1024, 512))); a[1].axis('off');\n",
        "    \n",
        "    plt.show()\n",
        "    print(file)\n",
        "\n",
        "\n",
        "# In[ ]:\n",
        "\n",
        "\n",
        "\"\"\"\n",
        "Creating a directory for training data. \n",
        "\"\"\"\n",
        "get_ipython().system('mkdir trainData')\n",
        "\n",
        "\n",
        "# In[ ]:\n",
        "\n",
        "\n",
        "\"\"\"\n",
        "Preprocessing and saving the training data to corresponding directory. \n",
        "\"\"\"\n",
        "for idx, file in tqdm(enumerate(glob.glob('train\\*.png'))):\n",
        "    img = Image.open(file).convert('RGB')\n",
        "    \n",
        "    img.crop((0, 0, 512,512)).save('./trainData/Images/{}.png'.format(idx))\n",
        "    img.crop((512, 0, 1024, 512)).save('./trainData/Sketches/{}.png'.format(idx))\n",
        "\n",
        "\n",
        "# In[ ]:\n",
        "\n",
        "\n",
        "\"\"\"\n",
        "Creating a directory for validation/test data. \n",
        "\"\"\"\n",
        "get_ipython().system('mkdir valData')\n",
        "\n",
        "\n",
        "# In[ ]:\n",
        "\n",
        "\n",
        "\"\"\"\n",
        "Preprocessing and saving the validation/test data to corresponding directory. \n",
        "\"\"\"\n",
        "for idx, file in tqdm(enumerate(glob.glob('val\\*.png'))):\n",
        "    img = Image.open(file).convert('RGB')\n",
        "    \n",
        "    img.crop((0, 0, 512,512)).save('./valData/Images/{}.png'.format(idx))\n",
        "    img.crop((512, 0, 1024, 512)).save('./valData/Sketches/{}.png'.format(idx))"
      ],
      "metadata": {
        "id": "pYEpV5UuC_RL",
        "colab": {
          "base_uri": "https://localhost:8080/"
        },
        "outputId": "100f8e57-3e2b-4613-8d08-34b88cacaf1b"
      },
      "execution_count": 1,
      "outputs": [
        {
          "output_type": "stream",
          "name": "stderr",
          "text": [
            "0it [00:00, ?it/s]\n",
            "0it [00:00, ?it/s]\n"
          ]
        }
      ]
    }
  ]
}